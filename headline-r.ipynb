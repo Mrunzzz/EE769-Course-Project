{
 "cells": [
  {
   "cell_type": "code",
   "execution_count": 70,
   "metadata": {},
   "outputs": [],
   "source": [
    "import pandas as pd\n",
    "import numpy as np\n",
    "import matplotlib.pyplot as plt\n",
    "import seaborn as sns\n",
    "from mpl_toolkits.mplot3d import Axes3D\n",
    "from sklearn import preprocessing\n",
    "import nltk\n",
    "from textblob import TextBlob\n",
    "import textblob \n",
    "    "
   ]
  },
  {
   "cell_type": "code",
   "execution_count": 71,
   "metadata": {},
   "outputs": [],
   "source": [
    "# Load dataset\n",
    "data1 = pd.read_csv(\"/home/mrunz/Desktop/ee769 project/articles1.csv\")\n",
    "data2 = pd.read_csv(\"/home/mrunz/Desktop/ee769 project/articles2.csv\")\n",
    "data3 = pd.read_csv(\"/home/mrunz/Desktop/ee769 project/articles3.csv\")\n",
    "#data"
   ]
  },
  {
   "cell_type": "code",
   "execution_count": 72,
   "metadata": {},
   "outputs": [
    {
     "name": "stdout",
     "output_type": "stream",
     "text": [
      "[nltk_data] Downloading package stopwords to /home/mrunz/nltk_data...\n",
      "[nltk_data]   Package stopwords is already up-to-date!\n",
      "['i', 'me', 'my', 'myself', 'we', 'our', 'ours', 'ourselves', 'you', \"you're\", \"you've\", \"you'll\", \"you'd\", 'your', 'yours', 'yourself', 'yourselves', 'he', 'him', 'his', 'himself', 'she', \"she's\", 'her', 'hers', 'herself', 'it', \"it's\", 'its', 'itself', 'they', 'them', 'their', 'theirs', 'themselves', 'what', 'which', 'who', 'whom', 'this', 'that', \"that'll\", 'these', 'those', 'am', 'is', 'are', 'was', 'were', 'be', 'been', 'being', 'have', 'has', 'had', 'having', 'do', 'does', 'did', 'doing', 'a', 'an', 'the', 'and', 'but', 'if', 'or', 'because', 'as', 'until', 'while', 'of', 'at', 'by', 'for', 'with', 'about', 'against', 'between', 'into', 'through', 'during', 'before', 'after', 'above', 'below', 'to', 'from', 'up', 'down', 'in', 'out', 'on', 'off', 'over', 'under', 'again', 'further', 'then', 'once', 'here', 'there', 'when', 'where', 'why', 'how', 'all', 'any', 'both', 'each', 'few', 'more', 'most', 'other', 'some', 'such', 'no', 'nor', 'not', 'only', 'own', 'same', 'so', 'than', 'too', 'very', 's', 't', 'can', 'will', 'just', 'don', \"don't\", 'should', \"should've\", 'now', 'd', 'll', 'm', 'o', 're', 've', 'y', 'ain', 'aren', \"aren't\", 'couldn', \"couldn't\", 'didn', \"didn't\", 'doesn', \"doesn't\", 'hadn', \"hadn't\", 'hasn', \"hasn't\", 'haven', \"haven't\", 'isn', \"isn't\", 'ma', 'mightn', \"mightn't\", 'mustn', \"mustn't\", 'needn', \"needn't\", 'shan', \"shan't\", 'shouldn', \"shouldn't\", 'wasn', \"wasn't\", 'weren', \"weren't\", 'won', \"won't\", 'wouldn', \"wouldn't\", 'get', 'may']\n"
     ]
    }
   ],
   "source": [
    "data1.drop(['url','Unnamed: 0','author'],axis=1,inplace=True)\n",
    "data2.drop(['url','Unnamed: 0','author'],axis=1,inplace=True)\n",
    "data3.drop(['url','Unnamed: 0','author'],axis=1,inplace=True)\n",
    "text_columns=['title','publication','content']\n",
    "stop =nltk.download('stopwords')\n",
    "stop=stopwords.words('english')\n",
    "stop.append('get')\n",
    "stop.append('may')\n",
    "print(stop)"
   ]
  },
  {
   "cell_type": "code",
   "execution_count": null,
   "metadata": {},
   "outputs": [
    {
     "name": "stdout",
     "output_type": "stream",
     "text": [
      "[nltk_data] Downloading package wordnet to /home/mrunz/nltk_data...\n",
      "[nltk_data]   Package wordnet is already up-to-date!\n"
     ]
    }
   ],
   "source": [
    "nltk.download('wordnet')\n",
    "for i in text_columns:\n",
    "    data1[i] = data[i].apply(lambda x: \" \".join(x.lower() for x in x.split()))\n",
    "    data1[i] = data[i].apply(lambda x: \" \".join(x for x in x.split() if x not in stop ))\n",
    "    data1[i] = data[i].str.replace('[^\\w\\s]','')\n",
    "    data1[i] = data[i].apply(lambda x: \" \".join([textblob.Word(word).lemmatize() for word in x.split()]))\n",
    "    data2[i] = data[i].apply(lambda x: \" \".join(x.lower() for x in x.split()))\n",
    "    data2[i] = data[i].apply(lambda x: \" \".join(x for x in x.split() if x not in stop ))\n",
    "    data2[i] = data[i].str.replace('[^\\w\\s]','')\n",
    "    data2[i] = data[i].apply(lambda x: \" \".join([textblob.Word(word).lemmatize() for word in x.split()]))\n",
    "    data3[i] = data[i].apply(lambda x: \" \".join(x.lower() for x in x.split()))\n",
    "    data3[i] = data[i].apply(lambda x: \" \".join(x for x in x.split() if x not in stop ))\n",
    "    data3[i] = data[i].str.replace('[^\\w\\s]','')\n",
    "    data3[i] = data[i].apply(lambda x: \" \".join([textblob.Word(word).lemmatize() for word in x.split()]))\n",
    "\n"
   ]
  },
  {
   "cell_type": "code",
   "execution_count": null,
   "metadata": {},
   "outputs": [],
   "source": []
  },
  {
   "cell_type": "code",
   "execution_count": null,
   "metadata": {},
   "outputs": [],
   "source": []
  }
 ],
 "metadata": {
  "kernelspec": {
   "display_name": "Python 3",
   "language": "python",
   "name": "python3"
  },
  "language_info": {
   "codemirror_mode": {
    "name": "ipython",
    "version": 3
   },
   "file_extension": ".py",
   "mimetype": "text/x-python",
   "name": "python",
   "nbconvert_exporter": "python",
   "pygments_lexer": "ipython3",
   "version": "3.5.2"
  }
 },
 "nbformat": 4,
 "nbformat_minor": 2
}
